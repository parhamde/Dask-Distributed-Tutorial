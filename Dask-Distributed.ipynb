{
 "cells": [
  {
   "cell_type": "code",
   "execution_count": 4,
   "metadata": {},
   "outputs": [],
   "source": [
    "from dask.distributed import Client  # برای مدیریت خوشه Dask\n",
    "import dask.dataframe as dd\n",
    "from dask_ml.model_selection import train_test_split\n",
    "from dask_ml.linear_model import LogisticRegression\n",
    "from sklearn.metrics import accuracy_score, f1_score, confusion_matrix\n",
    "import seaborn as sns\n",
    "import matplotlib.pyplot as plt"
   ]
  },
  {
   "cell_type": "code",
   "execution_count": 9,
   "metadata": {},
   "outputs": [
    {
     "name": "stderr",
     "output_type": "stream",
     "text": [
      "c:\\Users\\IraniaN\\AppData\\Local\\Programs\\Python\\Python311\\Lib\\site-packages\\distributed\\node.py:187: UserWarning: Port 8787 is already in use.\n",
      "Perhaps you already have a cluster running?\n",
      "Hosting the HTTP server on port 6685 instead\n",
      "  warnings.warn(\n"
     ]
    }
   ],
   "source": [
    "# راه‌اندازی کلاینت\n",
    "client = Client()\n",
    "\n",
    "# بارگذاری داده‌ها\n",
    "file_path = './hospitals (1).csv'\n",
    "df = dd.read_csv(file_path, assume_missing=True)"
   ]
  },
  {
   "cell_type": "code",
   "execution_count": 10,
   "metadata": {},
   "outputs": [
    {
     "name": "stdout",
     "output_type": "stream",
     "text": [
      "<Client: 'tcp://127.0.0.1:6688' processes=4 threads=4, memory=7.89 GiB>\n"
     ]
    }
   ],
   "source": [
    "# نمایش وضعیت کلاینت\n",
    "print(client)\n"
   ]
  },
  {
   "cell_type": "code",
   "execution_count": 12,
   "metadata": {},
   "outputs": [
    {
     "name": "stdout",
     "output_type": "stream",
     "text": [
      "Data Types of Columns:\n",
      "date                             object\n",
      "hospital.bed.total              float64\n",
      "hospital.bed.total.max          float64\n",
      "hospital.bed.occupied           float64\n",
      "hospital.bed.free               float64\n",
      "                                 ...   \n",
      "hospital.pbor.care.total.max    float64\n",
      "hospital.pbid.care.occupied     float64\n",
      "hospital.pbid.care.free         float64\n",
      "hospital.pbid.care.total        float64\n",
      "hospital.pbid.care.total.max    float64\n",
      "Length: 265, dtype: object\n"
     ]
    }
   ],
   "source": [
    "# مشاهده نوع داده‌ها\n",
    "print(\"Data Types of Columns:\")\n",
    "print(df.compute().dtypes)  # محاسبه و سپس نمایش نوع داده‌ها\n"
   ]
  }
 ],
 "metadata": {
  "kernelspec": {
   "display_name": "Python 3",
   "language": "python",
   "name": "python3"
  },
  "language_info": {
   "codemirror_mode": {
    "name": "ipython",
    "version": 3
   },
   "file_extension": ".py",
   "mimetype": "text/x-python",
   "name": "python",
   "nbconvert_exporter": "python",
   "pygments_lexer": "ipython3",
   "version": "3.11.9"
  }
 },
 "nbformat": 4,
 "nbformat_minor": 2
}
