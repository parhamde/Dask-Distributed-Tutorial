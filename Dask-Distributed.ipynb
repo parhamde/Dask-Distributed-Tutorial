{
 "cells": [
  {
   "cell_type": "code",
   "execution_count": 4,
   "metadata": {},
   "outputs": [],
   "source": [
    "from dask.distributed import Client  # برای مدیریت خوشه Dask\n",
    "import dask.dataframe as dd\n",
    "from dask_ml.model_selection import train_test_split\n",
    "from dask_ml.linear_model import LogisticRegression\n",
    "from sklearn.metrics import accuracy_score, f1_score, confusion_matrix\n",
    "import seaborn as sns\n",
    "import matplotlib.pyplot as plt"
   ]
  },
  {
   "cell_type": "code",
   "execution_count": 9,
   "metadata": {},
   "outputs": [
    {
     "name": "stderr",
     "output_type": "stream",
     "text": [
      "c:\\Users\\IraniaN\\AppData\\Local\\Programs\\Python\\Python311\\Lib\\site-packages\\distributed\\node.py:187: UserWarning: Port 8787 is already in use.\n",
      "Perhaps you already have a cluster running?\n",
      "Hosting the HTTP server on port 6685 instead\n",
      "  warnings.warn(\n"
     ]
    }
   ],
   "source": [
    "# راه‌اندازی کلاینت\n",
    "client = Client()\n",
    "\n",
    "# بارگذاری داده‌ها\n",
    "file_path = './hospitals (1).csv'\n",
    "df = dd.read_csv(file_path, assume_missing=True)"
   ]
  },
  {
   "cell_type": "code",
   "execution_count": 10,
   "metadata": {},
   "outputs": [
    {
     "name": "stdout",
     "output_type": "stream",
     "text": [
      "<Client: 'tcp://127.0.0.1:6688' processes=4 threads=4, memory=7.89 GiB>\n"
     ]
    }
   ],
   "source": [
    "# نمایش وضعیت کلاینت\n",
    "print(client)\n"
   ]
  },
  {
   "cell_type": "code",
   "execution_count": 12,
   "metadata": {},
   "outputs": [
    {
     "name": "stdout",
     "output_type": "stream",
     "text": [
      "Data Types of Columns:\n",
      "date                             object\n",
      "hospital.bed.total              float64\n",
      "hospital.bed.total.max          float64\n",
      "hospital.bed.occupied           float64\n",
      "hospital.bed.free               float64\n",
      "                                 ...   \n",
      "hospital.pbor.care.total.max    float64\n",
      "hospital.pbid.care.occupied     float64\n",
      "hospital.pbid.care.free         float64\n",
      "hospital.pbid.care.total        float64\n",
      "hospital.pbid.care.total.max    float64\n",
      "Length: 265, dtype: object\n"
     ]
    }
   ],
   "source": [
    "# مشاهده نوع داده‌ها\n",
    "print(\"Data Types of Columns:\")\n",
    "print(df.compute().dtypes)  # محاسبه و سپس نمایش نوع داده‌ها\n"
   ]
  },
  {
   "cell_type": "code",
   "execution_count": 13,
   "metadata": {},
   "outputs": [
    {
     "name": "stdout",
     "output_type": "stream",
     "text": [
      "First 10 rows:\n",
      "         date  hospital.bed.total  hospital.bed.total.max  \\\n",
      "0  2020-03-10               270.0                     0.0   \n",
      "1  2020-03-11               270.0                     0.0   \n",
      "2  2020-03-12               292.0                     0.0   \n",
      "3  2020-03-13               332.0                     0.0   \n",
      "4  2020-03-14               332.0                     0.0   \n",
      "5  2020-03-15               332.0                     0.0   \n",
      "6  2020-03-16               332.0                     0.0   \n",
      "7  2020-03-17               332.0                     0.0   \n",
      "8  2020-03-18               332.0                     0.0   \n",
      "9  2020-03-19               332.0                     0.0   \n",
      "\n",
      "   hospital.bed.occupied  hospital.bed.free  hospital.bed.free.max  \\\n",
      "0                   18.0              252.0                    0.0   \n",
      "1                   18.0              252.0                    0.0   \n",
      "2                   17.0              275.0                    0.0   \n",
      "3                   22.0              310.0                    0.0   \n",
      "4                   29.0              303.0                    0.0   \n",
      "5                   33.0              299.0                    0.0   \n",
      "6                   32.0              300.0                    0.0   \n",
      "7                   38.0              294.0                    0.0   \n",
      "8                   43.0              289.0                    0.0   \n",
      "9                   47.0              285.0                    0.0   \n",
      "\n",
      "   hospital.icu.occupied  hospital.icu.free  hospital.icu.total  \\\n",
      "0                    1.0               13.0                14.0   \n",
      "1                    1.0               13.0                14.0   \n",
      "2                    2.0               22.0                24.0   \n",
      "3                    4.0               27.0                31.0   \n",
      "4                    4.0               27.0                31.0   \n",
      "5                    3.0               28.0                31.0   \n",
      "6                    5.0               26.0                31.0   \n",
      "7                    5.0               26.0                31.0   \n",
      "8                    5.0               26.0                31.0   \n",
      "9                    7.0               24.0                31.0   \n",
      "\n",
      "   hospital.icu.total.max  ...  hospital.pbvo.care.total  \\\n",
      "0                    14.0  ...                       NaN   \n",
      "1                    14.0  ...                       NaN   \n",
      "2                    24.0  ...                       NaN   \n",
      "3                    31.0  ...                       NaN   \n",
      "4                    31.0  ...                       NaN   \n",
      "5                    31.0  ...                       NaN   \n",
      "6                    31.0  ...                       NaN   \n",
      "7                    31.0  ...                       NaN   \n",
      "8                    31.0  ...                       NaN   \n",
      "9                    31.0  ...                       NaN   \n",
      "\n",
      "   hospital.pbvo.care.total.max  hospital.pbor.care.occupied  \\\n",
      "0                           NaN                          NaN   \n",
      "1                           NaN                          NaN   \n",
      "2                           NaN                          NaN   \n",
      "3                           NaN                          NaN   \n",
      "4                           NaN                          NaN   \n",
      "5                           NaN                          NaN   \n",
      "6                           NaN                          NaN   \n",
      "7                           NaN                          NaN   \n",
      "8                           NaN                          NaN   \n",
      "9                           NaN                          NaN   \n",
      "\n",
      "   hospital.pbor.care.free  hospital.pbor.care.total  \\\n",
      "0                      NaN                       NaN   \n",
      "1                      NaN                       NaN   \n",
      "2                      NaN                       NaN   \n",
      "3                      NaN                       NaN   \n",
      "4                      NaN                       NaN   \n",
      "5                      NaN                       NaN   \n",
      "6                      NaN                       NaN   \n",
      "7                      NaN                       NaN   \n",
      "8                      NaN                       NaN   \n",
      "9                      NaN                       NaN   \n",
      "\n",
      "   hospital.pbor.care.total.max  hospital.pbid.care.occupied  \\\n",
      "0                           NaN                          NaN   \n",
      "1                           NaN                          NaN   \n",
      "2                           NaN                          NaN   \n",
      "3                           NaN                          NaN   \n",
      "4                           NaN                          NaN   \n",
      "5                           NaN                          NaN   \n",
      "6                           NaN                          NaN   \n",
      "7                           NaN                          NaN   \n",
      "8                           NaN                          NaN   \n",
      "9                           NaN                          NaN   \n",
      "\n",
      "   hospital.pbid.care.free  hospital.pbid.care.total  \\\n",
      "0                      NaN                       NaN   \n",
      "1                      NaN                       NaN   \n",
      "2                      NaN                       NaN   \n",
      "3                      NaN                       NaN   \n",
      "4                      NaN                       NaN   \n",
      "5                      NaN                       NaN   \n",
      "6                      NaN                       NaN   \n",
      "7                      NaN                       NaN   \n",
      "8                      NaN                       NaN   \n",
      "9                      NaN                       NaN   \n",
      "\n",
      "   hospital.pbid.care.total.max  \n",
      "0                           NaN  \n",
      "1                           NaN  \n",
      "2                           NaN  \n",
      "3                           NaN  \n",
      "4                           NaN  \n",
      "5                           NaN  \n",
      "6                           NaN  \n",
      "7                           NaN  \n",
      "8                           NaN  \n",
      "9                           NaN  \n",
      "\n",
      "[10 rows x 265 columns]\n"
     ]
    }
   ],
   "source": [
    "# مشاهده چند ردیف اول برای بررسی داده‌ها\n",
    "df_head = df.head(10)  # فقط 10 ردیف اول\n",
    "print(\"First 10 rows:\")\n",
    "print(df_head)\n"
   ]
  }
 ],
 "metadata": {
  "kernelspec": {
   "display_name": "Python 3",
   "language": "python",
   "name": "python3"
  },
  "language_info": {
   "codemirror_mode": {
    "name": "ipython",
    "version": 3
   },
   "file_extension": ".py",
   "mimetype": "text/x-python",
   "name": "python",
   "nbconvert_exporter": "python",
   "pygments_lexer": "ipython3",
   "version": "3.11.9"
  }
 },
 "nbformat": 4,
 "nbformat_minor": 2
}
